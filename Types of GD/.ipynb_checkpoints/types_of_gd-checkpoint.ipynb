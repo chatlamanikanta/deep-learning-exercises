{
 "cells": [
  {
   "cell_type": "code",
   "execution_count": 1,
   "id": "daef9551-5251-454f-bea1-abd5daeb6fb0",
   "metadata": {},
   "outputs": [],
   "source": [
    "import numpy as np\n",
    "import pandas as pd\n",
    "import tensorflow as tf\n",
    "from tensorflow import keras\n"
   ]
  },
  {
   "cell_type": "markdown",
   "id": "f2949cc8-873b-49f5-a047-9c9b77eecd2d",
   "metadata": {},
   "source": [
    "## Implementing Batch Gradient Descent"
   ]
  },
  {
   "cell_type": "code",
   "execution_count": 4,
   "id": "e1d89e6b-8736-45e9-88fc-3c3e29810e63",
   "metadata": {},
   "outputs": [
    {
     "data": {
      "text/html": [
       "<div>\n",
       "<style scoped>\n",
       "    .dataframe tbody tr th:only-of-type {\n",
       "        vertical-align: middle;\n",
       "    }\n",
       "\n",
       "    .dataframe tbody tr th {\n",
       "        vertical-align: top;\n",
       "    }\n",
       "\n",
       "    .dataframe thead th {\n",
       "        text-align: right;\n",
       "    }\n",
       "</style>\n",
       "<table border=\"1\" class=\"dataframe\">\n",
       "  <thead>\n",
       "    <tr style=\"text-align: right;\">\n",
       "      <th></th>\n",
       "      <th>area</th>\n",
       "      <th>bedrooms</th>\n",
       "      <th>price</th>\n",
       "    </tr>\n",
       "  </thead>\n",
       "  <tbody>\n",
       "    <tr>\n",
       "      <th>0</th>\n",
       "      <td>1056</td>\n",
       "      <td>2</td>\n",
       "      <td>39.07</td>\n",
       "    </tr>\n",
       "    <tr>\n",
       "      <th>1</th>\n",
       "      <td>2600</td>\n",
       "      <td>4</td>\n",
       "      <td>120.00</td>\n",
       "    </tr>\n",
       "    <tr>\n",
       "      <th>2</th>\n",
       "      <td>1440</td>\n",
       "      <td>3</td>\n",
       "      <td>62.00</td>\n",
       "    </tr>\n",
       "    <tr>\n",
       "      <th>3</th>\n",
       "      <td>1521</td>\n",
       "      <td>3</td>\n",
       "      <td>75.00</td>\n",
       "    </tr>\n",
       "    <tr>\n",
       "      <th>4</th>\n",
       "      <td>1200</td>\n",
       "      <td>2</td>\n",
       "      <td>51.00</td>\n",
       "    </tr>\n",
       "  </tbody>\n",
       "</table>\n",
       "</div>"
      ],
      "text/plain": [
       "   area  bedrooms   price\n",
       "0  1056         2   39.07\n",
       "1  2600         4  120.00\n",
       "2  1440         3   62.00\n",
       "3  1521         3   75.00\n",
       "4  1200         2   51.00"
      ]
     },
     "execution_count": 4,
     "metadata": {},
     "output_type": "execute_result"
    }
   ],
   "source": [
    "df = pd.read_csv(\"homeprices_banglore.csv\")\n",
    "df.head()"
   ]
  },
  {
   "cell_type": "code",
   "execution_count": 5,
   "id": "ef0c6c23-4f74-474a-9b28-ba1ed79bd719",
   "metadata": {},
   "outputs": [],
   "source": [
    "X = df.drop('price',axis=1)\n",
    "y = df['price']"
   ]
  },
  {
   "cell_type": "code",
   "execution_count": 10,
   "id": "7b698cea-c966-45b0-a687-44ca7efa6f3e",
   "metadata": {},
   "outputs": [
    {
     "data": {
      "text/plain": [
       "0      39.07\n",
       "1     120.00\n",
       "2      62.00\n",
       "3      75.00\n",
       "4      51.00\n",
       "5      38.00\n",
       "6     135.00\n",
       "7     155.00\n",
       "8      50.00\n",
       "9     167.00\n",
       "10     82.00\n",
       "11    140.00\n",
       "12     38.00\n",
       "13     40.00\n",
       "14    101.00\n",
       "15     42.00\n",
       "16     48.00\n",
       "17     60.00\n",
       "18    102.00\n",
       "19     32.00\n",
       "Name: price, dtype: float64"
      ]
     },
     "execution_count": 10,
     "metadata": {},
     "output_type": "execute_result"
    }
   ],
   "source": [
    "y"
   ]
  },
  {
   "cell_type": "code",
   "execution_count": 17,
   "id": "88eb5fda-bfe7-4888-bfb4-4fac14eee02a",
   "metadata": {},
   "outputs": [],
   "source": [
    "from sklearn.preprocessing import MinMaxScaler\n",
    "\n",
    "sx = MinMaxScaler()\n",
    "sy = MinMaxScaler()\n",
    "X_scaled = sx.fit_transform(X)\n",
    "y_scaled = sy.fit_transform(y.values.reshape(df.shape[0],1))\n"
   ]
  },
  {
   "cell_type": "code",
   "execution_count": 18,
   "id": "93f62c11-9c71-4e6a-8484-ad018064564b",
   "metadata": {},
   "outputs": [
    {
     "data": {
      "text/plain": [
       "(20, 1)"
      ]
     },
     "execution_count": 18,
     "metadata": {},
     "output_type": "execute_result"
    }
   ],
   "source": [
    "y_scaled.shape"
   ]
  },
  {
   "cell_type": "code",
   "execution_count": 25,
   "id": "06c60ec1-9655-4402-81a6-ecf21f435614",
   "metadata": {},
   "outputs": [],
   "source": [
    "w = np.ones(shape=(X_scaled.shape[1]))"
   ]
  },
  {
   "cell_type": "code",
   "execution_count": 29,
   "id": "98401e79-7780-4c86-ac42-8411994897a4",
   "metadata": {},
   "outputs": [
    {
     "data": {
      "text/plain": [
       "array([0.33827586, 1.37068966, 0.72068966, 0.74862069, 0.38793103,\n",
       "       0.37758621, 1.4162069 , 1.61206897, 0.67586207, 2.        ,\n",
       "       0.84482759, 1.43448276, 0.31896552, 0.35344828, 1.        ,\n",
       "       0.37931034, 0.63103448, 0.75517241, 1.17931034, 0.        ])"
      ]
     },
     "execution_count": 29,
     "metadata": {},
     "output_type": "execute_result"
    }
   ],
   "source": [
    "np.dot(w,X_scaled.T)"
   ]
  },
  {
   "cell_type": "code",
   "execution_count": 50,
   "id": "9ef6b35e-9890-470f-b749-59e9081b02a3",
   "metadata": {},
   "outputs": [],
   "source": [
    "def batch_gradient_descent(X,y_true,epochs,lr=0.01):\n",
    "    w = np.ones(shape=(X.shape[1]))\n",
    "    bias = 0\n",
    "    n = X.shape[0]\n",
    "    cost_list = []\n",
    "    epochs_list = []\n",
    "    \n",
    "    for i in range(epochs):\n",
    "        y_pred = np.dot(w,X.T)+bias\n",
    "\n",
    "        wd = (-2/n)*np.dot(X.T,(y_true-y_pred))\n",
    "        bd = -2*np.mean(y_true-y_pred)\n",
    "\n",
    "        w = w-wd*lr\n",
    "        bias = bias-bd*lr\n",
    "\n",
    "        cost = np.mean(np.square(y_true-y_pred)) # cost function\n",
    "\n",
    "        if i%10==0:\n",
    "            cost_list.append(cost)\n",
    "            epochs_list.append(i)\n",
    "    return w,bias,cost_list,epochs_list\n",
    "        "
   ]
  },
  {
   "cell_type": "code",
   "execution_count": 51,
   "id": "1e0a2ca9-f2eb-4d07-a1da-631fe0458fd9",
   "metadata": {},
   "outputs": [
    {
     "data": {
      "text/plain": [
       "(array([0.70712464, 0.67456527]), -0.23034857438407427)"
      ]
     },
     "execution_count": 51,
     "metadata": {},
     "output_type": "execute_result"
    }
   ],
   "source": [
    "w,b,cost_list,epochs_list = batch_gradient_descent(X_scaled,y_scaled.reshape(y_scaled.shape[0]),500)\n",
    "w,b"
   ]
  },
  {
   "cell_type": "code",
   "execution_count": 54,
   "id": "a395032c-64bb-4ac1-8c06-33be600a9cbd",
   "metadata": {},
   "outputs": [
    {
     "data": {
      "image/png": "[encoded data removed]",
      "text/plain": [
       "<Figure size 640x480 with 1 Axes>"
      ]
     },
     "metadata": {},
     "output_type": "display_data"
    }
   ],
   "source": [
    "import matplotlib.pyplot as plt\n",
    "\n",
    "plt.plot(epochs_list,cost_list)\n",
    "plt.show()"
   ]
  },
  {
   "cell_type": "markdown",
   "id": "f6b0adac-8975-42cf-a1e8-77cc466fcf18",
   "metadata": {},
   "source": [
    "### Implementing prediction function"
   ]
  },
  {
   "cell_type": "code",
   "execution_count": 68,
   "id": "37bb9a1d-19ba-46c2-a0f9-d49de244b5f2",
   "metadata": {},
   "outputs": [
    {
     "data": {
      "text/plain": [
       "array([0.62068966, 0.75      ])"
      ]
     },
     "execution_count": 68,
     "metadata": {},
     "output_type": "execute_result"
    }
   ],
   "source": [
    "import warnings\n",
    "warnings.filterwarnings(\"ignore\")\n",
    "\n",
    "sx.transform([[2600,4]])[0]"
   ]
  },
  {
   "cell_type": "code",
   "execution_count": 73,
   "id": "06734d39-629e-4089-989e-56ebd8786fea",
   "metadata": {},
   "outputs": [
    {
     "data": {
      "text/plain": [
       "128.45484403267596"
      ]
     },
     "execution_count": 73,
     "metadata": {},
     "output_type": "execute_result"
    }
   ],
   "source": [
    "def predict(area,bedrooms,w,b):\n",
    "    scaled_x = sx.transform([[area,bedrooms]])[0]\n",
    "    y_pred = w[0]*scaled_x[0]+w[1]*scaled_x[1]+b\n",
    "    return sy.inverse_transform([[y_pred]])[0][0]\n",
    "predict(2600,4,w,b)"
   ]
  },
  {
   "cell_type": "code",
   "execution_count": 75,
   "id": "f9c2929c-e293-4e3a-bd95-e7285d68f1a9",
   "metadata": {},
   "outputs": [
    {
     "data": {
      "text/plain": [
       "151.49735394363776"
      ]
     },
     "execution_count": 75,
     "metadata": {},
     "output_type": "execute_result"
    }
   ],
   "source": [
    "predict(3300,4,w,b)"
   ]
  },
  {
   "cell_type": "code",
   "execution_count": 77,
   "id": "b7e41dd0-deae-4829-9294-7f1b5546f2a9",
   "metadata": {},
   "outputs": [
    {
     "data": {
      "text/plain": [
       "92.24518560116452"
      ]
     },
     "execution_count": 77,
     "metadata": {},
     "output_type": "execute_result"
    }
   ],
   "source": [
    "predict(1500,4,w,b)"
   ]
  },
  {
   "cell_type": "markdown",
   "id": "dae6e22f-c5a9-4c37-b2b7-1088bc1905e5",
   "metadata": {},
   "source": [
    "## Implementing Stochastic Gradient Descent"
   ]
  },
  {
   "cell_type": "code",
   "execution_count": 122,
   "id": "2133b72e-b469-4e4b-bfd5-634d5f092a86",
   "metadata": {},
   "outputs": [],
   "source": [
    "import random\n",
    "def stochastic_gradient_descent(X,y_true,epochs,lr=0.01):\n",
    "    w = np.ones(shape=(X.shape[1]))\n",
    "    b = 0\n",
    "    n = X.shape[0]\n",
    "\n",
    "    cost_list = []\n",
    "    epochs_list = []\n",
    "    for i in range(epochs):\n",
    "        rand_indx = random.randint(0,n-1)\n",
    "        X_taken = X[rand_indx]\n",
    "        y_taken = y_true[rand_indx]\n",
    "\n",
    "        y_pred = np.dot(w,X_taken.T)+b\n",
    "\n",
    "        wd = (-2)*np.dot(X_taken.T,(y_taken-y_pred))\n",
    "        bd = -2*(y_taken-y_pred)\n",
    "\n",
    "        w = w-wd*lr\n",
    "        b = b-bd*lr\n",
    "\n",
    "        cost = np.square(y_taken-y_pred)\n",
    "\n",
    "        if i%100==0:\n",
    "            cost_list.append(cost)\n",
    "            epochs_list.append(i)\n",
    "\n",
    "    return w,b,cost_list,epochs_list\n",
    "    \n",
    "        "
   ]
  },
  {
   "cell_type": "code",
   "execution_count": 123,
   "id": "46748907-a85a-401a-99b3-f4ca216a0993",
   "metadata": {},
   "outputs": [],
   "source": [
    "w_sgd,b_sgd,cost_sgd,epochs_sgd = stochastic_gradient_descent(X_scaled,y_scaled.reshape(y_scaled.shape[0]),1000)"
   ]
  },
  {
   "cell_type": "code",
   "execution_count": 124,
   "id": "943b7f9d-b061-4b1e-9dd2-d66d891c97c3",
   "metadata": {},
   "outputs": [
    {
     "data": {
      "text/plain": [
       "(array([0.66752274, 0.62505356]), -0.1877891570427802)"
      ]
     },
     "execution_count": 124,
     "metadata": {},
     "output_type": "execute_result"
    }
   ],
   "source": [
    "w_sgd,b_sgd"
   ]
  },
  {
   "cell_type": "code",
   "execution_count": 125,
   "id": "dbb82e59-f3ed-4859-bdfe-f1a5620b4e45",
   "metadata": {},
   "outputs": [
    {
     "data": {
      "text/plain": [
       "(array([0.70712464, 0.67456527]), -0.23034857438407427)"
      ]
     },
     "execution_count": 125,
     "metadata": {},
     "output_type": "execute_result"
    }
   ],
   "source": [
    "w,b"
   ]
  },
  {
   "cell_type": "code",
   "execution_count": 126,
   "id": "91085d98-e1fa-4b3f-beaf-2c89bac11640",
   "metadata": {},
   "outputs": [
    {
     "data": {
      "image/png": "[encoded data removed]",
      "text/plain": [
       "<Figure size 640x480 with 1 Axes>"
      ]
     },
     "metadata": {},
     "output_type": "display_data"
    }
   ],
   "source": [
    "plt.plot(epochs_sgd,cost_sgd)\n",
    "plt.show()"
   ]
  },
  {
   "cell_type": "markdown",
   "id": "5b3b6403-8344-4182-8ed8-449afacea23e",
   "metadata": {},
   "source": [
    "## Implementing Mini Batch Gradient Descent"
   ]
  },
  {
   "cell_type": "code",
   "execution_count": 157,
   "id": "cc5e534d-670f-4804-8b6c-1ba51c4386a6",
   "metadata": {},
   "outputs": [],
   "source": [
    "def mini_batch_gd(X,y_true,epochs,batch_size,lr=0.01):\n",
    "    w = np.ones(shape=(X.shape[1]))\n",
    "    b = 0 \n",
    "    n = X.shape[0]\n",
    "    cost_list = []\n",
    "    epochs_list = []\n",
    "\n",
    "    for i in range(epochs):\n",
    "        indexes = np.random.choice(a=n,size=batch_size,replace=False) # replace=True => you can pick the same sample multiple times in one batch.\n",
    "                                                                      # replace=False => once a sample is picked, it won’t be picked again in the same batch.\n",
    "        X_taken = X[indexes]\n",
    "        y_taken = y_true[indexes]\n",
    "        y_pred = np.dot(w,X_taken.T)+b\n",
    "\n",
    "        wd = (-2/batch_size)*np.dot(X_taken.T,(y_taken-y_pred))\n",
    "        bd = -2*np.mean(y_taken-y_pred)\n",
    "\n",
    "        w = w-wd*lr\n",
    "        b = b-bd*lr\n",
    "\n",
    "        cost = np.mean(np.square(y_taken-y_pred))\n",
    "\n",
    "        if i%100==0:\n",
    "            cost_list.append(cost)\n",
    "            epochs_list.append(i)\n",
    "\n",
    "    return w,b,cost_list,epochs_list\n",
    "        "
   ]
  },
  {
   "cell_type": "code",
   "execution_count": 158,
   "id": "e93bffad-e2ee-42a5-93ae-bd3985bbb284",
   "metadata": {},
   "outputs": [
    {
     "data": {
      "text/plain": [
       "(array([0.66282   , 0.60399648]), -0.17441469535582146)"
      ]
     },
     "execution_count": 158,
     "metadata": {},
     "output_type": "execute_result"
    }
   ],
   "source": [
    "w_mbgd,b_mbgd,cost_mbgd,epochs_mbgd = mini_batch_gd(X_scaled,y_scaled.reshape(y_scaled.shape[0]),1000,10)\n",
    "w_mbgd,b_mbgd"
   ]
  },
  {
   "cell_type": "code",
   "execution_count": 159,
   "id": "0a81b982-1f8e-4e1f-a291-299aedda28c4",
   "metadata": {},
   "outputs": [
    {
     "data": {
      "image/png": "[encoded data removed]",
      "text/plain": [
       "<Figure size 640x480 with 1 Axes>"
      ]
     },
     "metadata": {},
     "output_type": "display_data"
    }
   ],
   "source": [
    "plt.plot(epochs_mbgd,cost_mbgd)\n",
    "plt.show()"
   ]
  },
  {
   "cell_type": "code",
   "execution_count": 168,
   "id": "748cc011-a030-4d17-be12-f3a964f0e4f2",
   "metadata": {},
   "outputs": [
    {
     "data": {
      "text/plain": [
       "array([ 56, 200,  88,   1,  34])"
      ]
     },
     "execution_count": 168,
     "metadata": {},
     "output_type": "execute_result"
    }
   ],
   "source": [
    "arr = np.array([1,10,34,56,78,88,67,45,104,200,12])\n",
    "arr[np.random.choice(11,5,replace=False)]"
   ]
  },
  {
   "cell_type": "code",
   "execution_count": null,
   "id": "013cbf5c-9b09-48dd-8148-2cb5f089e030",
   "metadata": {},
   "outputs": [],
   "source": []
  }
 ],
 "metadata": {
  "kernelspec": {
   "display_name": "Python 3 (ipykernel)",
   "language": "python",
   "name": "python3"
  },
  "language_info": {
   "codemirror_mode": {
    "name": "ipython",
    "version": 3
   },
   "file_extension": ".py",
   "mimetype": "text/x-python",
   "name": "python",
   "nbconvert_exporter": "python",
   "pygments_lexer": "ipython3",
   "version": "3.12.7"
  }
 },
 "nbformat": 4,
 "nbformat_minor": 5
}
