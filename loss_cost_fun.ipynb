{
 "cells": [
  {
   "cell_type": "code",
   "execution_count": 1,
   "id": "592631c8-2620-421e-9a83-643044ca5b01",
   "metadata": {},
   "outputs": [],
   "source": [
    "import numpy as np"
   ]
  },
  {
   "cell_type": "code",
   "execution_count": 2,
   "id": "6519f679-edca-4bb2-add9-3a1d88507860",
   "metadata": {},
   "outputs": [],
   "source": [
    "y_pred = np.array([1,1,0,0,1])\n",
    "y_true = np.array([0.30,0.7,1,0,0.5])"
   ]
  },
  {
   "cell_type": "markdown",
   "id": "050a3dfa-043e-459d-b888-c043471da389",
   "metadata": {},
   "source": [
    "## Mean_Absolute_Error"
   ]
  },
  {
   "cell_type": "code",
   "execution_count": 5,
   "id": "d01cb0b2-9a16-46da-9d63-4bd97c98d95a",
   "metadata": {},
   "outputs": [
    {
     "name": "stdout",
     "output_type": "stream",
     "text": [
      "Mean Absolute Error : 0.5\n"
     ]
    }
   ],
   "source": [
    "def mae(y_pred,y_true):\n",
    "    total_error = 0\n",
    "    for x,y in zip(y_true,y_pred):\n",
    "        total_error+=abs(x-y)\n",
    "    return total_error/len(y_pred)\n",
    "print(f\"Mean Absolute Error : {mae(y_pred,y_true)}\")"
   ]
  },
  {
   "cell_type": "code",
   "execution_count": 9,
   "id": "207b7514-cb7c-4540-bb39-d6763d82a47e",
   "metadata": {},
   "outputs": [
    {
     "name": "stdout",
     "output_type": "stream",
     "text": [
      "Mean Absolute Error : 0.5\n"
     ]
    }
   ],
   "source": [
    "def mae_numpy(y_pred,y_true):\n",
    "    return np.mean(np.abs(y_true-y_pred))\n",
    "print(f\"Mean Absolute Error : {mae_numpy(y_pred,y_true)}\")"
   ]
  },
  {
   "cell_type": "markdown",
   "id": "e224999e-4e4d-4671-9785-ec7591de78df",
   "metadata": {},
   "source": [
    "## Mean_Squared_Error"
   ]
  },
  {
   "cell_type": "code",
   "execution_count": 17,
   "id": "b7e3ef3c-c5d0-4b70-a843-a102c2513a37",
   "metadata": {},
   "outputs": [
    {
     "data": {
      "text/plain": [
       "0.366"
      ]
     },
     "execution_count": 17,
     "metadata": {},
     "output_type": "execute_result"
    }
   ],
   "source": [
    "import math\n",
    "def mse(y_true,y_pred):\n",
    "    total_error = 0\n",
    "    for x,y in zip(y_true,y_pred):\n",
    "        total_error+=math.pow(abs(x-y),2)\n",
    "    return total_error/len(y_pred) \n",
    "mse(y_true,y_pred)"
   ]
  },
  {
   "cell_type": "code",
   "execution_count": 20,
   "id": "9ad839a2-b02e-46e7-9f24-ef9059b17d98",
   "metadata": {},
   "outputs": [
    {
     "data": {
      "text/plain": [
       "0.366"
      ]
     },
     "execution_count": 20,
     "metadata": {},
     "output_type": "execute_result"
    }
   ],
   "source": [
    "(((1-0.3)*(1-0.3))+((1-0.7)*(1-0.7))+((0-1)*(0-1))+((1-0.5)*(1-0.5)))/5"
   ]
  },
  {
   "cell_type": "code",
   "execution_count": 23,
   "id": "dcb913a3-d4cc-417c-ba9a-ec96afae2769",
   "metadata": {},
   "outputs": [
    {
     "data": {
      "text/plain": [
       "0.366"
      ]
     },
     "execution_count": 23,
     "metadata": {},
     "output_type": "execute_result"
    }
   ],
   "source": [
    "def mse_numpy(y_true,y_pred):\n",
    "    return np.mean(np.square(y_true-y_pred))\n",
    "mse_numpy(y_true,y_pred)"
   ]
  },
  {
   "cell_type": "markdown",
   "id": "c5e9d423-5d21-4f6a-b89e-e369a38874a4",
   "metadata": {},
   "source": [
    "## Log Loss Function"
   ]
  },
  {
   "cell_type": "code",
   "execution_count": 32,
   "id": "98ef3fcb-3ff0-43fc-84a1-eccbf64b2bbf",
   "metadata": {},
   "outputs": [
    {
     "data": {
      "text/plain": [
       "17.2696280766844"
      ]
     },
     "execution_count": 32,
     "metadata": {},
     "output_type": "execute_result"
    }
   ],
   "source": [
    "def log_loss(y_true,y_pred):\n",
    "    epsilon = 1e-15\n",
    "    y_pred_new = [max(i,epsilon) for i in y_pred]\n",
    "    y_pred_new = [min(i,1-epsilon) for i in y_pred_new] # we are doing all this because log(1)=0 and log(0)=not defined.That's why we are modifying.\n",
    "    y_pred_new = np.array(y_pred_new)\n",
    "    return -np.mean(y_true*np.log(y_pred_new)+(1-y_true)*np.log(1-y_pred_new))\n",
    "\n",
    "log_loss(y_true,y_pred)\n"
   ]
  },
  {
   "cell_type": "code",
   "execution_count": null,
   "id": "e648b8b5-8833-42f0-81b3-f3e6dbd9fd0d",
   "metadata": {},
   "outputs": [],
   "source": []
  }
 ],
 "metadata": {
  "kernelspec": {
   "display_name": "Python 3 (ipykernel)",
   "language": "python",
   "name": "python3"
  },
  "language_info": {
   "codemirror_mode": {
    "name": "ipython",
    "version": 3
   },
   "file_extension": ".py",
   "mimetype": "text/x-python",
   "name": "python",
   "nbconvert_exporter": "python",
   "pygments_lexer": "ipython3",
   "version": "3.12.7"
  }
 },
 "nbformat": 4,
 "nbformat_minor": 5
}
