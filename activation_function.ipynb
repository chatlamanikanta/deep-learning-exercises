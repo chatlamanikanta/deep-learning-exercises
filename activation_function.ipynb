{
 "cells": [
  {
   "cell_type": "code",
   "execution_count": 2,
   "id": "e19a91fa-1f91-49ca-a901-c9751b000f61",
   "metadata": {},
   "outputs": [],
   "source": [
    "import numpy as np\n",
    "import math"
   ]
  },
  {
   "cell_type": "code",
   "execution_count": 13,
   "id": "b8ee74b2-9f6e-44fa-bea6-98a9c2c91ad1",
   "metadata": {},
   "outputs": [
    {
     "data": {
      "text/plain": [
       "3.7200759760208356e-44"
      ]
     },
     "execution_count": 13,
     "metadata": {},
     "output_type": "execute_result"
    }
   ],
   "source": [
    "def sigmoid(x):\n",
    "    return 1/(1+math.exp(-x))\n",
    "sigmoid(-100)"
   ]
  },
  {
   "cell_type": "code",
   "execution_count": 15,
   "id": "d77d5b21-b419-479e-a826-88ad22a36663",
   "metadata": {},
   "outputs": [
    {
     "data": {
      "text/plain": [
       "-1.0"
      ]
     },
     "execution_count": 15,
     "metadata": {},
     "output_type": "execute_result"
    }
   ],
   "source": [
    "def tanh(x):\n",
    "    return (math.exp(x)-math.exp(-x))/(math.exp(x)+math.exp(-x))\n",
    "tanh(-50)"
   ]
  },
  {
   "cell_type": "code",
   "execution_count": 16,
   "id": "69a19ff6-3ef6-4fd9-9ab2-77aabf2a695d",
   "metadata": {},
   "outputs": [
    {
     "data": {
      "text/plain": [
       "0.7615941559557649"
      ]
     },
     "execution_count": 16,
     "metadata": {},
     "output_type": "execute_result"
    }
   ],
   "source": [
    "tanh(1)"
   ]
  },
  {
   "cell_type": "code",
   "execution_count": 17,
   "id": "d3ea76bb-f451-4f06-9d31-9ddd7cf69138",
   "metadata": {},
   "outputs": [],
   "source": [
    "def relu(x):\n",
    "    return max(0,x)\n"
   ]
  },
  {
   "cell_type": "code",
   "execution_count": 18,
   "id": "d1225212-966e-47be-8dab-7722d20887b3",
   "metadata": {},
   "outputs": [
    {
     "data": {
      "text/plain": [
       "0"
      ]
     },
     "execution_count": 18,
     "metadata": {},
     "output_type": "execute_result"
    }
   ],
   "source": [
    "relu(-100)"
   ]
  },
  {
   "cell_type": "code",
   "execution_count": 19,
   "id": "f874b422-1fa1-498d-8d91-b4cac48ec2d5",
   "metadata": {},
   "outputs": [
    {
     "data": {
      "text/plain": [
       "100"
      ]
     },
     "execution_count": 19,
     "metadata": {},
     "output_type": "execute_result"
    }
   ],
   "source": [
    "relu(100)"
   ]
  },
  {
   "cell_type": "code",
   "execution_count": 22,
   "id": "0b9a9aae-57ff-4c3e-8782-e5d3eac3cb6c",
   "metadata": {},
   "outputs": [
    {
     "data": {
      "text/plain": [
       "10"
      ]
     },
     "execution_count": 22,
     "metadata": {},
     "output_type": "execute_result"
    }
   ],
   "source": [
    "def leaky_relu(x):\n",
    "    return max(0.1*x,x)\n",
    "leaky_relu(10)"
   ]
  },
  {
   "cell_type": "code",
   "execution_count": 23,
   "id": "530cd7e1-80ef-402d-bf0e-f86c2bdbd2ff",
   "metadata": {},
   "outputs": [
    {
     "data": {
      "text/plain": [
       "-0.1"
      ]
     },
     "execution_count": 23,
     "metadata": {},
     "output_type": "execute_result"
    }
   ],
   "source": [
    "leaky_relu(-1)"
   ]
  },
  {
   "cell_type": "code",
   "execution_count": null,
   "id": "caac3f60-53a8-4774-8bd2-376a7a1e6449",
   "metadata": {},
   "outputs": [],
   "source": []
  }
 ],
 "metadata": {
  "kernelspec": {
   "display_name": "Python 3 (ipykernel)",
   "language": "python",
   "name": "python3"
  },
  "language_info": {
   "codemirror_mode": {
    "name": "ipython",
    "version": 3
   },
   "file_extension": ".py",
   "mimetype": "text/x-python",
   "name": "python",
   "nbconvert_exporter": "python",
   "pygments_lexer": "ipython3",
   "version": "3.12.7"
  }
 },
 "nbformat": 4,
 "nbformat_minor": 5
}
