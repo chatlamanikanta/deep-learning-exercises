{
 "cells": [
  {
   "cell_type": "code",
   "execution_count": 1,
   "id": "09faf7b6-0e6f-4257-8e66-f21c7cd861b4",
   "metadata": {},
   "outputs": [],
   "source": [
    "import numpy as np"
   ]
  },
  {
   "cell_type": "code",
   "execution_count": 3,
   "id": "b7e93f5b-3f54-4d34-b08d-46a6c59cfe71",
   "metadata": {},
   "outputs": [
    {
     "data": {
      "text/plain": [
       "array([[200, 220, 250],\n",
       "       [ 68,  79, 105],\n",
       "       [110, 140, 180],\n",
       "       [ 80,  85,  90]])"
      ]
     },
     "execution_count": 3,
     "metadata": {},
     "output_type": "execute_result"
    }
   ],
   "source": [
    "revenue_usa = np.array([[200,220,250],[68,79,105],[110,140,180],[80,85,90]])\n",
    "revenue_usa"
   ]
  },
  {
   "cell_type": "code",
   "execution_count": 4,
   "id": "ec69abd7-f604-42f3-a23c-aa000553bf9b",
   "metadata": {},
   "outputs": [
    {
     "data": {
      "text/plain": [
       "array([[15000, 16500, 18750],\n",
       "       [ 5100,  5925,  7875],\n",
       "       [ 8250, 10500, 13500],\n",
       "       [ 6000,  6375,  6750]])"
      ]
     },
     "execution_count": 4,
     "metadata": {},
     "output_type": "execute_result"
    }
   ],
   "source": [
    "revenue_ind = np.dot(revenue_usa,75)\n",
    "revenue_ind"
   ]
  },
  {
   "cell_type": "code",
   "execution_count": 22,
   "id": "9c0ba5d4-17a4-405b-ad76-aa6a64742fe9",
   "metadata": {},
   "outputs": [],
   "source": [
    "unit_sold = np.array([[50,60,25],[10,13,5],[40,70,52]])\n",
    "price_per_unit = np.array([20,30,15])"
   ]
  },
  {
   "cell_type": "code",
   "execution_count": 23,
   "id": "45fac6fe-17e7-4ab9-bc0b-a11fd80d3e6f",
   "metadata": {},
   "outputs": [
    {
     "data": {
      "text/plain": [
       "array([[50, 60, 25],\n",
       "       [10, 13,  5],\n",
       "       [40, 70, 52]])"
      ]
     },
     "execution_count": 23,
     "metadata": {},
     "output_type": "execute_result"
    }
   ],
   "source": [
    "unit_sold"
   ]
  },
  {
   "cell_type": "code",
   "execution_count": 24,
   "id": "c1c0699b-46cb-43a6-9f28-10ad0d8bcd04",
   "metadata": {},
   "outputs": [
    {
     "data": {
      "text/plain": [
       "array([20, 30, 15])"
      ]
     },
     "execution_count": 24,
     "metadata": {},
     "output_type": "execute_result"
    }
   ],
   "source": [
    "price_per_unit"
   ]
  },
  {
   "cell_type": "code",
   "execution_count": 28,
   "id": "3955dc2b-0ad0-49a8-a45f-ddcd800b6a21",
   "metadata": {},
   "outputs": [],
   "source": [
    "total_sales = np.dot(price_per_unit,unit_sold)"
   ]
  },
  {
   "cell_type": "code",
   "execution_count": 29,
   "id": "f9ed94ec-49de-4f38-8293-e6845ded7089",
   "metadata": {},
   "outputs": [
    {
     "data": {
      "text/plain": [
       "array([1900, 2640, 1430])"
      ]
     },
     "execution_count": 29,
     "metadata": {},
     "output_type": "execute_result"
    }
   ],
   "source": [
    "total_sales"
   ]
  },
  {
   "cell_type": "code",
   "execution_count": 30,
   "id": "00925fc0-d65e-41ed-a6a4-0655ea24bfe3",
   "metadata": {},
   "outputs": [
    {
     "data": {
      "text/plain": [
       "1900"
      ]
     },
     "execution_count": 30,
     "metadata": {},
     "output_type": "execute_result"
    }
   ],
   "source": [
    "(50*20)+(10*30)+(40*15)"
   ]
  },
  {
   "cell_type": "code",
   "execution_count": null,
   "id": "913bf0ef-5982-47bb-9bee-858cc64dba65",
   "metadata": {},
   "outputs": [],
   "source": []
  }
 ],
 "metadata": {
  "kernelspec": {
   "display_name": "Python 3 (ipykernel)",
   "language": "python",
   "name": "python3"
  },
  "language_info": {
   "codemirror_mode": {
    "name": "ipython",
    "version": 3
   },
   "file_extension": ".py",
   "mimetype": "text/x-python",
   "name": "python",
   "nbconvert_exporter": "python",
   "pygments_lexer": "ipython3",
   "version": "3.12.7"
  }
 },
 "nbformat": 4,
 "nbformat_minor": 5
}
